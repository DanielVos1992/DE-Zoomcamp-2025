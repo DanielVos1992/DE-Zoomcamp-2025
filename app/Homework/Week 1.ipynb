{
 "cells": [
  {
   "cell_type": "markdown",
   "id": "7a6b4785-a289-46d2-8833-840e8c475b17",
   "metadata": {},
   "source": [
    "# Homework exersises\n",
    "\n",
    "This is a notebook for answering the first set of homework exersices for the 2025 cohort of the data engineering zoomcamp."
   ]
  },
  {
   "cell_type": "markdown",
   "id": "6e303ec7-52fd-4c9d-92b1-b22e16125a8c",
   "metadata": {},
   "source": [
    "## Question 1. Version of pip (1 point)\n",
    "\n",
    "Run docker with the python:3.12.8 image in an interactive mode, use the entrypoint bash.\n",
    "\n",
    "What's the version of pip in the image?"
   ]
  },
  {
   "cell_type": "code",
   "execution_count": 3,
   "id": "655f7c25-f89f-47b9-bc84-8e61f59d1295",
   "metadata": {
    "scrolled": true
   },
   "outputs": [
    {
     "name": "stdout",
     "output_type": "stream",
     "text": [
      "pip 24.3.1 from /usr/local/lib/python3.12/site-packages/pip (python 3.12)\n",
      "Note: you may need to restart the kernel to use updated packages.\n"
     ]
    }
   ],
   "source": [
    "pip --version"
   ]
  },
  {
   "cell_type": "markdown",
   "id": "f0584c2b-2dcb-489d-87e0-df7fc7da9304",
   "metadata": {},
   "source": [
    "## Question 2. Understanding Docker networking and docker-compose\n",
    "Given the following docker-compose.yaml, what is the hostname and port that pgadmin should use to connect to the postgres database?\n",
    "\n",
    "```\n",
    "services:\n",
    "  db:\n",
    "    container_name: postgres\n",
    "    image: postgres:17-alpine\n",
    "    environment:\n",
    "      POSTGRES_USER: 'postgres'\n",
    "      POSTGRES_PASSWORD: 'postgres'\n",
    "      POSTGRES_DB: 'ny_taxi'\n",
    "    ports:\n",
    "      - '5433:5432'\n",
    "    volumes:\n",
    "      - vol-pgdata:/var/lib/postgresql/data\n",
    "\n",
    "  pgadmin:\n",
    "    container_name: pgadmin\n",
    "    image: dpage/pgadmin4:latest\n",
    "    environment:\n",
    "      PGADMIN_DEFAULT_EMAIL: \"pgadmin@pgadmin.com\"\n",
    "      PGADMIN_DEFAULT_PASSWORD: \"pgadmin\"\n",
    "    ports:\n",
    "      - \"8080:80\"\n",
    "    volumes:\n",
    "      - vol-pgadmin_data:/var/lib/pgadmin  \n",
    "\n",
    "volumes:\n",
    "  vol-pgdata:\n",
    "    name: vol-pgdata\n",
    "  vol-pgadmin_data:\n",
    "    name: vol-pgadmin_data\n",
    "```"
   ]
  },
  {
   "cell_type": "markdown",
   "id": "45096156-233a-4e2a-8aeb-77d70bf59bfa",
   "metadata": {},
   "source": [
    "Answer: db:5432\n",
    "\n",
    "Explanation:\n",
    "    - service name is db\n",
    "    - portnumber is: 5432\n",
    "\n",
    "The reason why it is 5432 and not 5433 is due to the 5433 port being the port that is connected to the host machine and the 5432 is related to the db postgress service."
   ]
  },
  {
   "cell_type": "markdown",
   "id": "8b864187-9bd7-4b6c-8ea1-b99a360dd5e9",
   "metadata": {},
   "source": [
    "## Question 3. Trip Segmentation Count"
   ]
  },
  {
   "cell_type": "code",
   "execution_count": null,
   "id": "e8be7e98-fd13-4d9f-a0b0-4f09d5a9ddab",
   "metadata": {},
   "outputs": [],
   "source": []
  }
 ],
 "metadata": {
  "kernelspec": {
   "display_name": "Python 3 (ipykernel)",
   "language": "python",
   "name": "python3"
  },
  "language_info": {
   "codemirror_mode": {
    "name": "ipython",
    "version": 3
   },
   "file_extension": ".py",
   "mimetype": "text/x-python",
   "name": "python",
   "nbconvert_exporter": "python",
   "pygments_lexer": "ipython3",
   "version": "3.12.8"
  }
 },
 "nbformat": 4,
 "nbformat_minor": 5
}
